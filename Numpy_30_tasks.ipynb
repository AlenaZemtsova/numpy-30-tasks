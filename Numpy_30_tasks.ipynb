{
 "cells": [
  {
   "cell_type": "markdown",
   "metadata": {
    "colab_type": "text",
    "id": "KkW9XLpDgFAF"
   },
   "source": [
    "## Библиотека `NumPy`\n",
    "\n",
    "* Дан массив, содержащий баллы слушателей курса по английскому языку за вступительный экзамен. \n",
    "* Слушатели распределены по 15 группам по 10 человек."
   ]
  },
  {
   "cell_type": "code",
   "execution_count": 1,
   "metadata": {
    "colab": {},
    "colab_type": "code",
    "id": "XViQYLNHgFAG"
   },
   "outputs": [],
   "source": [
    "import numpy as np\n",
    "\n",
    "scores = np.array([[20, 40, 56, 80, 0, 5, 25, 27, 74, 1],\n",
    "         [0, 98, 67, 100, 8, 56, 34, 82, 100, 7],\n",
    "         [78, 54, 23, 79, 100, 0, 0, 42, 95, 83],\n",
    "         [51, 50, 47, 23, 100, 94, 25, 48, 38, 77],\n",
    "         [90, 87, 41, 89, 52, 0, 5, 17, 28, 99],\n",
    "         [32, 18, 21, 18, 29, 31, 48, 62, 76, 22],\n",
    "         [6, 0, 65, 78, 43, 22, 38, 88, 94, 100],\n",
    "         [77, 28, 39, 41, 0, 81, 45, 54, 98, 12],\n",
    "         [66, 0, 88, 0, 44, 0, 55, 100, 12, 11],\n",
    "         [17, 70, 86, 96, 56, 23, 32, 49, 70, 80],\n",
    "         [20, 24, 76, 50, 29, 40, 3, 2, 5, 11],\n",
    "         [33, 63, 28, 40, 51, 100, 98, 87, 22, 30],\n",
    "         [16, 54, 78, 12, 25, 35, 10, 19, 67, 0],\n",
    "         [100, 88, 24, 33, 47, 56, 62, 34, 77, 53],\n",
    "         [50, 89, 70, 72, 56, 29, 15, 20, 0, 0]])\n"
   ]
  },
  {
   "cell_type": "markdown",
   "metadata": {
    "colab_type": "text",
    "id": "FZyP6_u4gFAI"
   },
   "source": [
    "### Задание 1\n",
    "\n",
    "Посчитать, сколько слушателей получили 0 за вступительный экзамен."
   ]
  },
  {
   "cell_type": "code",
   "execution_count": 2,
   "metadata": {
    "colab": {},
    "colab_type": "code",
    "id": "ny-bpAn_gFAI"
   },
   "outputs": [
    {
     "data": {
      "text/plain": [
       "13"
      ]
     },
     "execution_count": 2,
     "metadata": {},
     "output_type": "execute_result"
    }
   ],
   "source": [
    "losers = scores <= 0\n",
    "losers.sum()"
   ]
  },
  {
   "cell_type": "markdown",
   "metadata": {
    "colab_type": "text",
    "id": "zqXOMBPCgFAL"
   },
   "source": [
    "### Задание 2\n",
    "\n",
    "Посчитать, сколько слушателей получили балл выше 50."
   ]
  },
  {
   "cell_type": "code",
   "execution_count": 3,
   "metadata": {
    "colab": {},
    "colab_type": "code",
    "id": "mUD76BUigFAL"
   },
   "outputs": [
    {
     "data": {
      "text/plain": [
       "64"
      ]
     },
     "execution_count": 3,
     "metadata": {},
     "output_type": "execute_result"
    }
   ],
   "source": [
    "excellent = scores > 50\n",
    "excellent.sum()"
   ]
  },
  {
   "cell_type": "markdown",
   "metadata": {
    "colab_type": "text",
    "id": "OocnEIqdgFAN"
   },
   "source": [
    "### Задание 3\n",
    "\n",
    "Посчитать, сколько человек получили балл не ниже 50, но не выше 70."
   ]
  },
  {
   "cell_type": "code",
   "execution_count": 4,
   "metadata": {
    "colab": {},
    "colab_type": "code",
    "id": "RvzMz6lTgFAO"
   },
   "outputs": [
    {
     "data": {
      "text/plain": [
       "26"
      ]
     },
     "execution_count": 4,
     "metadata": {},
     "output_type": "execute_result"
    }
   ],
   "source": [
    "good = (scores >= 50) & (scores <= 70)\n",
    "good.sum()"
   ]
  },
  {
   "cell_type": "markdown",
   "metadata": {
    "colab_type": "text",
    "id": "Q9dNpdEBgFAP"
   },
   "source": [
    "### Задание 4\n",
    "\n",
    "Определить, в какой группе средний балл за вступительный экзамен выше."
   ]
  },
  {
   "cell_type": "code",
   "execution_count": 5,
   "metadata": {
    "colab": {},
    "colab_type": "code",
    "id": "Fto_aImFgFAQ"
   },
   "outputs": [
    {
     "name": "stdout",
     "output_type": "stream",
     "text": [
      "[32.8 55.2 55.4 55.3 50.8 35.7 53.4 47.5 37.6 57.9 26.  55.2 31.6 57.4\n",
      " 40.1]\n",
      "57.9\n"
     ]
    },
    {
     "data": {
      "text/plain": [
       "9"
      ]
     },
     "execution_count": 5,
     "metadata": {},
     "output_type": "execute_result"
    }
   ],
   "source": [
    "middle = scores.mean(axis = 1)\n",
    "print(middle)\n",
    "print(middle.max())\n",
    "middle.argmax()"
   ]
  },
  {
   "cell_type": "markdown",
   "metadata": {
    "colab_type": "text",
    "id": "IjZUz0KkgFAR"
   },
   "source": [
    "### Задание 5\n",
    "\n",
    "Сохранить баллы слушателей выше 0 в массив `nonzero`. "
   ]
  },
  {
   "cell_type": "code",
   "execution_count": 6,
   "metadata": {
    "colab": {},
    "colab_type": "code",
    "id": "PRViY--agFAT"
   },
   "outputs": [
    {
     "data": {
      "text/plain": [
       "array([ 20,  40,  56,  80,   5,  25,  27,  74,   1,  98,  67, 100,   8,\n",
       "        56,  34,  82, 100,   7,  78,  54,  23,  79, 100,  42,  95,  83,\n",
       "        51,  50,  47,  23, 100,  94,  25,  48,  38,  77,  90,  87,  41,\n",
       "        89,  52,   5,  17,  28,  99,  32,  18,  21,  18,  29,  31,  48,\n",
       "        62,  76,  22,   6,  65,  78,  43,  22,  38,  88,  94, 100,  77,\n",
       "        28,  39,  41,  81,  45,  54,  98,  12,  66,  88,  44,  55, 100,\n",
       "        12,  11,  17,  70,  86,  96,  56,  23,  32,  49,  70,  80,  20,\n",
       "        24,  76,  50,  29,  40,   3,   2,   5,  11,  33,  63,  28,  40,\n",
       "        51, 100,  98,  87,  22,  30,  16,  54,  78,  12,  25,  35,  10,\n",
       "        19,  67, 100,  88,  24,  33,  47,  56,  62,  34,  77,  53,  50,\n",
       "        89,  70,  72,  56,  29,  15,  20])"
      ]
     },
     "execution_count": 6,
     "metadata": {},
     "output_type": "execute_result"
    }
   ],
   "source": [
    "nonzero = scores[scores > 0]\n",
    "nonzero"
   ]
  },
  {
   "cell_type": "markdown",
   "metadata": {
    "colab_type": "text",
    "id": "-ve1VG1XgFAV"
   },
   "source": [
    "### Задание 6\n",
    "\n",
    "Используя массив `nonzero`, определить минимальный балл за вступительный балл по всем группам."
   ]
  },
  {
   "cell_type": "code",
   "execution_count": 7,
   "metadata": {
    "colab": {},
    "colab_type": "code",
    "id": "ZnGg9mcUgFAV"
   },
   "outputs": [
    {
     "data": {
      "text/plain": [
       "1"
      ]
     },
     "execution_count": 7,
     "metadata": {},
     "output_type": "execute_result"
    }
   ],
   "source": [
    "nonzero.min()"
   ]
  },
  {
   "cell_type": "markdown",
   "metadata": {
    "colab_type": "text",
    "id": "5eaQJGatgFAZ"
   },
   "source": [
    "### Задание 7\n",
    "\n",
    "* Выбрать из массива `nonzero` только те значения, которые соответствуют продвинутому уровню знания языка – баллу за экзамен выше 80. \n",
    "* Сохранить полученный результат в массив `advanced`. \n",
    "* В заданиях 8-10 нужно работать с массивом `advanced`."
   ]
  },
  {
   "cell_type": "code",
   "execution_count": 8,
   "metadata": {
    "colab": {},
    "colab_type": "code",
    "id": "nmMA59fAgFAZ"
   },
   "outputs": [
    {
     "data": {
      "text/plain": [
       "array([ 98, 100,  82, 100, 100,  95,  83, 100,  94,  90,  87,  89,  99,\n",
       "        88,  94, 100,  81,  98,  88, 100,  86,  96, 100,  98,  87, 100,\n",
       "        88,  89])"
      ]
     },
     "execution_count": 8,
     "metadata": {},
     "output_type": "execute_result"
    }
   ],
   "source": [
    "advanced = nonzero[nonzero > 80]\n",
    "advanced"
   ]
  },
  {
   "cell_type": "markdown",
   "metadata": {
    "colab_type": "text",
    "id": "Aq0Lf1f6gFAk"
   },
   "source": [
    "### Задание 8\n",
    "\n",
    "Определить размерность массива `advanced`."
   ]
  },
  {
   "cell_type": "code",
   "execution_count": 9,
   "metadata": {
    "colab": {},
    "colab_type": "code",
    "id": "m_9Wm-7xgFAl"
   },
   "outputs": [
    {
     "data": {
      "text/plain": [
       "1"
      ]
     },
     "execution_count": 9,
     "metadata": {},
     "output_type": "execute_result"
    }
   ],
   "source": [
    "advanced.ndim"
   ]
  },
  {
   "cell_type": "markdown",
   "metadata": {
    "colab_type": "text",
    "id": "Bc_cX_EYgFAo"
   },
   "source": [
    "### Задание 9\n",
    "\n",
    "Определить форму массива `advanced`."
   ]
  },
  {
   "cell_type": "code",
   "execution_count": 10,
   "metadata": {
    "colab": {},
    "colab_type": "code",
    "id": "6VSwGB6fgFAp"
   },
   "outputs": [
    {
     "data": {
      "text/plain": [
       "(28,)"
      ]
     },
     "execution_count": 10,
     "metadata": {},
     "output_type": "execute_result"
    }
   ],
   "source": [
    "advanced.shape"
   ]
  },
  {
   "cell_type": "markdown",
   "metadata": {
    "colab_type": "text",
    "id": "tmheEQZ3gFAr"
   },
   "source": [
    "### Задание 10\n",
    "\n",
    "Определить общее число элементов в массиве `advanced`."
   ]
  },
  {
   "cell_type": "code",
   "execution_count": 11,
   "metadata": {
    "colab": {},
    "colab_type": "code",
    "id": "OvJ2oJV7gFAr"
   },
   "outputs": [
    {
     "data": {
      "text/plain": [
       "28"
      ]
     },
     "execution_count": 11,
     "metadata": {},
     "output_type": "execute_result"
    }
   ],
   "source": [
    "advanced.size"
   ]
  },
  {
   "cell_type": "markdown",
   "metadata": {
    "colab_type": "text",
    "id": "rfufTemUgFAv"
   },
   "source": [
    "### Задание 11\n",
    "\n",
    "На основе исходного массива `scores` создать булев массив `sto`, где `True` соответствует баллам за экзамен, равным 100, а `False` – всем остальным баллам. "
   ]
  },
  {
   "cell_type": "code",
   "execution_count": 12,
   "metadata": {
    "colab": {},
    "colab_type": "code",
    "id": "cXVCTZJRgFAw"
   },
   "outputs": [
    {
     "data": {
      "text/plain": [
       "array([[False, False, False, False, False, False, False, False, False,\n",
       "        False],\n",
       "       [False, False, False,  True, False, False, False, False,  True,\n",
       "        False],\n",
       "       [False, False, False, False,  True, False, False, False, False,\n",
       "        False],\n",
       "       [False, False, False, False,  True, False, False, False, False,\n",
       "        False],\n",
       "       [False, False, False, False, False, False, False, False, False,\n",
       "        False],\n",
       "       [False, False, False, False, False, False, False, False, False,\n",
       "        False],\n",
       "       [False, False, False, False, False, False, False, False, False,\n",
       "         True],\n",
       "       [False, False, False, False, False, False, False, False, False,\n",
       "        False],\n",
       "       [False, False, False, False, False, False, False,  True, False,\n",
       "        False],\n",
       "       [False, False, False, False, False, False, False, False, False,\n",
       "        False],\n",
       "       [False, False, False, False, False, False, False, False, False,\n",
       "        False],\n",
       "       [False, False, False, False, False,  True, False, False, False,\n",
       "        False],\n",
       "       [False, False, False, False, False, False, False, False, False,\n",
       "        False],\n",
       "       [ True, False, False, False, False, False, False, False, False,\n",
       "        False],\n",
       "       [False, False, False, False, False, False, False, False, False,\n",
       "        False]])"
      ]
     },
     "execution_count": 12,
     "metadata": {},
     "output_type": "execute_result"
    }
   ],
   "source": [
    "sto = scores == 100\n",
    "sto"
   ]
  },
  {
   "cell_type": "markdown",
   "metadata": {
    "colab_type": "text",
    "id": "GBKO0EiTgFAy"
   },
   "source": [
    "### Задание 12\n",
    "\n",
    "На основе исходного массива `scores` вывести на экран оценки слушателей первых семи групп (включительно, должны быть 7 списков оценок)."
   ]
  },
  {
   "cell_type": "code",
   "execution_count": 13,
   "metadata": {
    "colab": {},
    "colab_type": "code",
    "id": "5MsmBdCggFA0"
   },
   "outputs": [
    {
     "data": {
      "text/plain": [
       "array([[ 20,  40,  56,  80,   0,   5,  25,  27,  74,   1],\n",
       "       [  0,  98,  67, 100,   8,  56,  34,  82, 100,   7],\n",
       "       [ 78,  54,  23,  79, 100,   0,   0,  42,  95,  83],\n",
       "       [ 51,  50,  47,  23, 100,  94,  25,  48,  38,  77],\n",
       "       [ 90,  87,  41,  89,  52,   0,   5,  17,  28,  99],\n",
       "       [ 32,  18,  21,  18,  29,  31,  48,  62,  76,  22],\n",
       "       [  6,   0,  65,  78,  43,  22,  38,  88,  94, 100]])"
      ]
     },
     "execution_count": 13,
     "metadata": {},
     "output_type": "execute_result"
    }
   ],
   "source": [
    "scores[:7]"
   ]
  },
  {
   "cell_type": "markdown",
   "metadata": {
    "colab_type": "text",
    "id": "NevmPbRrgFA2"
   },
   "source": [
    "### В заданиях 13-14 необходимо работать с массивом `A`:"
   ]
  },
  {
   "cell_type": "code",
   "execution_count": 14,
   "metadata": {
    "colab": {},
    "colab_type": "code",
    "id": "b8eeE6EOgFA2"
   },
   "outputs": [],
   "source": [
    "A = np.array([[2, 9, 8, 0],\n",
    "             [8, 7, 5, 6], \n",
    "             [3, 1, 0, 2], \n",
    "             [6, 5, 6, 8],\n",
    "             [1, 0, 0, 4]])"
   ]
  },
  {
   "cell_type": "markdown",
   "metadata": {
    "colab_type": "text",
    "id": "RAQ4aJhfgFA5"
   },
   "source": [
    "### Задание 13\n",
    "\n",
    "* Транспонировать массив `A`, не используя встроенных методов `NumPy`. \n",
    "* Сохранить полученный массив в переменную `A_tr`. \n",
    "* Допустимо использовать циклы и условные конструкции (при необходимости)."
   ]
  },
  {
   "cell_type": "code",
   "execution_count": 15,
   "metadata": {
    "colab": {},
    "colab_type": "code",
    "id": "2HvCIIF0gFA6"
   },
   "outputs": [
    {
     "name": "stdout",
     "output_type": "stream",
     "text": [
      "[2, 9, 8, 0]\n",
      "[8, 7, 5, 6]\n",
      "[3, 1, 0, 2]\n",
      "[6, 5, 6, 8]\n",
      "[1, 0, 0, 4]\n",
      "\n",
      "\n",
      "[2, 8, 3, 6, 1]\n",
      "[9, 7, 1, 5, 0]\n",
      "[8, 5, 0, 6, 0]\n",
      "[0, 6, 2, 8, 4]\n"
     ]
    }
   ],
   "source": [
    "m = [[2, 9, 8, 0], [8, 7, 5, 6], [3, 1, 0, 2], [6, 5, 6, 8], [1, 0, 0, 4]]\n",
    "for row in m:\n",
    "    print(row)\n",
    "A_tr = [[m[j][i] for j in range(len(m))] for i in range(len(m[0]))] \n",
    "\n",
    "# перебираем каждый элемент матрицы (m) в основном столбце\n",
    "# и присваиваем результат матрице A_tr, которая является транспозицией m\n",
    "\n",
    "print(\"\\n\") \n",
    "for row in A_tr: \n",
    "    print(row)             "
   ]
  },
  {
   "cell_type": "markdown",
   "metadata": {
    "colab_type": "text",
    "id": "Rb0Np089gFA8"
   },
   "source": [
    "### Задание 14\n",
    "\n",
    "Сравнить результаты: проверить равенство полученного выше массива `A_tr` и массива, который получается транспонированием массива `A` с помощью метода `.T`. "
   ]
  },
  {
   "cell_type": "code",
   "execution_count": 16,
   "metadata": {},
   "outputs": [
    {
     "name": "stdout",
     "output_type": "stream",
     "text": [
      "[[2 8 3 6 1]\n",
      " [9 7 1 5 0]\n",
      " [8 5 0 6 0]\n",
      " [0 6 2 8 4]]\n"
     ]
    },
    {
     "data": {
      "text/plain": [
       "True"
      ]
     },
     "execution_count": 16,
     "metadata": {},
     "output_type": "execute_result"
    }
   ],
   "source": [
    "print(A.T)\n",
    "np.array_equal(A_tr, A.T)"
   ]
  },
  {
   "cell_type": "markdown",
   "metadata": {
    "colab_type": "text",
    "id": "0GsTgRbbgFA_"
   },
   "source": [
    "### Задание 15\n",
    "\n",
    "* Студент N подрабатывает репетитором по математике и ведёт занятия разных типов: готовит к ЕГЭ, к олимпиадам, «подтягивает» математику у школьников младших классов. \n",
    "* В массиве `classes` хранится число проведённых уроков за пять рабочих дней, в массиве `prices` — стоимость одного урока (считаем, что студент за день проводит занятия одного типа, одинаковые по стоимости).\n",
    "* Определить доход студента за неделю, используя [метод](https://docs.scipy.org/doc/numpy/reference/generated/numpy.dot.html) `.dot()` для нахождения [скалярного произведения](https://ru.wikipedia.org/wiki/%D0%A1%D0%BA%D0%B0%D0%BB%D1%8F%D1%80%D0%BD%D0%BE%D0%B5_%D0%BF%D1%80%D0%BE%D0%B8%D0%B7%D0%B2%D0%B5%D0%B4%D0%B5%D0%BD%D0%B8%D0%B5). "
   ]
  },
  {
   "cell_type": "code",
   "execution_count": 17,
   "metadata": {
    "colab": {},
    "colab_type": "code",
    "id": "IHm4BAzMgFA_"
   },
   "outputs": [],
   "source": [
    "classes = np.array([3, 3, 2, 0, 2])\n",
    "prices = np.array([1500, 1500, 2500, 1000, 1000])"
   ]
  },
  {
   "cell_type": "code",
   "execution_count": 18,
   "metadata": {
    "colab": {},
    "colab_type": "code",
    "id": "naNXR55mgFBD"
   },
   "outputs": [
    {
     "data": {
      "text/plain": [
       "16000"
      ]
     },
     "execution_count": 18,
     "metadata": {},
     "output_type": "execute_result"
    }
   ],
   "source": [
    "np.dot(classes, prices)"
   ]
  },
  {
   "cell_type": "markdown",
   "metadata": {
    "colab_type": "text",
    "id": "pVhH4MrAgFBH"
   },
   "source": [
    "### Задание 16\n",
    "\n",
    "* По результатам работы с данными по оценкам за эссе студентов, поставленным двумя разными экспертами, были созданы два булевых массива `expert1` и `expert2`, в которых значение `True` означает оценку «удовлетворительно» и выше, а значение `False` – неудовлетворительно. \n",
    "* Всего было оценено 15 эссе, по 5 эссе на каждую из трёх тем.\n",
    "* Определить, используя различные логические операторы (`|`, `&`, и проч.) и вспомогательные методы/функции, сколько студентов получат зачёт, если известно, что для этого необходимо получить оценку не ниже удовлетворительной у обоих экспертов."
   ]
  },
  {
   "cell_type": "code",
   "execution_count": 19,
   "metadata": {
    "colab": {},
    "colab_type": "code",
    "id": "XvKTyCPsgFBH"
   },
   "outputs": [],
   "source": [
    "expert1 = np.array([[True, False, False, True, True],\n",
    "                   [False, True, False, False, True],\n",
    "                   [True, True, True, False, False]])\n",
    "\n",
    "expert2 = np.array([[True, False, False, False, True],\n",
    "                   [False, False, False, False, False],\n",
    "                   [True, False, True, False, False]])"
   ]
  },
  {
   "cell_type": "code",
   "execution_count": 20,
   "metadata": {
    "colab": {},
    "colab_type": "code",
    "id": "_ItTN6kugFBI"
   },
   "outputs": [
    {
     "name": "stdout",
     "output_type": "stream",
     "text": [
      "[[ True False False False  True]\n",
      " [False False False False False]\n",
      " [ True False  True False False]]\n"
     ]
    },
    {
     "data": {
      "text/plain": [
       "4"
      ]
     },
     "execution_count": 20,
     "metadata": {},
     "output_type": "execute_result"
    }
   ],
   "source": [
    "marks = (expert1 == True) & (expert2 == True)\n",
    "print(marks)\n",
    "marks.sum()"
   ]
  },
  {
   "cell_type": "markdown",
   "metadata": {
    "colab_type": "text",
    "id": "SNjTSYadgFBM"
   },
   "source": [
    "### Задание 17\n",
    "\n",
    "Дан массив `essay` с итоговыми оценками студентов за эссе из задачи 16:"
   ]
  },
  {
   "cell_type": "code",
   "execution_count": 21,
   "metadata": {
    "colab": {},
    "colab_type": "code",
    "id": "m-0uuLMsgFBN"
   },
   "outputs": [],
   "source": [
    "# pass - сдал\n",
    "# not pass - не сдал\n",
    "\n",
    "essay = np.array([[\"pass\", \"not pass\", \"not pass\", \"not pass\", \"pass\"],\n",
    "        [\"not pass\", \"not pass\", \"not pass\", \"not pass\", \"not pass\"],\n",
    "        [\"pass\", \"not pass\", \"pass\", \"not pass\", \"not pass\"]])"
   ]
  },
  {
   "cell_type": "markdown",
   "metadata": {
    "colab_type": "text",
    "id": "ods6NVgWgFBO"
   },
   "source": [
    "* Проверить ответ в предыдущей задаче, используя массив `essay`. \n",
    "* Решение должно быть представлено в виде кода, не в виде выводов в результате явного подсчёта элементов."
   ]
  },
  {
   "cell_type": "code",
   "execution_count": 22,
   "metadata": {
    "colab": {},
    "colab_type": "code",
    "id": "VrnzKwKfgFBO"
   },
   "outputs": [
    {
     "name": "stdout",
     "output_type": "stream",
     "text": [
      "[[ True False False False  True]\n",
      " [False False False False False]\n",
      " [ True False  True False False]]\n"
     ]
    },
    {
     "data": {
      "text/plain": [
       "True"
      ]
     },
     "execution_count": 22,
     "metadata": {},
     "output_type": "execute_result"
    }
   ],
   "source": [
    "M = essay == \"pass\"\n",
    "print(M)\n",
    "np.array_equal(marks, M)"
   ]
  },
  {
   "cell_type": "markdown",
   "metadata": {
    "colab_type": "text",
    "id": "O4WRS6GagFBQ"
   },
   "source": [
    "### Задание 18\n",
    "\n",
    "Используя массивы `expert1` и `expert2` из задачи 16, определить согласованность двух экспертов, используя меру близости Жаккара, которая вычисляется следующим образом:\n",
    "\n",
    "$$\n",
    "J(A, B) = \\frac{|A \\cap B|}{|A| + |B| - |A \\cap B|}\n",
    ",$$ \n",
    "\n",
    "* где $A$ – первое множество, \n",
    "* $B$ – второе множество, \n",
    "* $A \\cap B$ – пересечение множеств, т.е. их общие элементы. \n",
    "* Запись $|A|$ означает «количество элементов в множестве». \n",
    "\n",
    "В качестве множеств $A$ и $B$ в данной задаче выступают множества (группы) студентов, которые получили зачёт у первого и второго экспертов."
   ]
  },
  {
   "cell_type": "code",
   "execution_count": 23,
   "metadata": {},
   "outputs": [
    {
     "name": "stdout",
     "output_type": "stream",
     "text": [
      "8\n",
      "4\n"
     ]
    },
    {
     "data": {
      "text/plain": [
       "0.5"
      ]
     },
     "execution_count": 23,
     "metadata": {},
     "output_type": "execute_result"
    }
   ],
   "source": [
    "A = expert1.sum()\n",
    "print(A)\n",
    "B = expert2.sum()\n",
    "print(B)\n",
    "J = (expert1 & expert2).sum() / (A.sum() + B.sum() - (expert1 & expert2).sum())\n",
    "J"
   ]
  },
  {
   "cell_type": "markdown",
   "metadata": {},
   "source": [
    "### Задание 19\n",
    "\n",
    "* Загрузить из файла `array_hw.npy` массив и сохранить его как `arr`. \n",
    "* Массив содержит объёмы продаж мороженого (в штуках) в 5 магазинах за одну неделю в июне (7 дней, с понедельника до воскресенья). \n",
    "* В заданиях 20-23 нужно работать с массивом `arr`."
   ]
  },
  {
   "cell_type": "code",
   "execution_count": 25,
   "metadata": {},
   "outputs": [
    {
     "name": "stdout",
     "output_type": "stream",
     "text": [
      "[[100  80  70  60 120]\n",
      " [ 65  55  20  50  60]\n",
      " [ 80  90  75  80  60]\n",
      " [ 45  60  70  20  40]\n",
      " [ 82  47  56  89  92]\n",
      " [115 120 113 106 107]\n",
      " [ 46  74  23  34  19]]\n"
     ]
    }
   ],
   "source": [
    "arr = np.load(\"array_hw.npy\") \n",
    "print(arr)"
   ]
  },
  {
   "cell_type": "markdown",
   "metadata": {},
   "source": [
    "### Задание 20\n",
    "\n",
    "* Если думать о массиве `arr` как о таблице, сейчас в таблице магазины идут по столбцам (1 магазин = 1 столбец, всего 5), а дни – по строкам (1 день = 1 строка, всего 7). \n",
    "* Преобразовать массив `arr` таким образом, чтобы по строкам шли магазины, а по столбцам – дни (1 строка = 1 магазин). \n",
    "* Сохранить изменения. \n",
    "* Проверить, что форма массива изменилась."
   ]
  },
  {
   "cell_type": "code",
   "execution_count": 26,
   "metadata": {},
   "outputs": [
    {
     "name": "stdout",
     "output_type": "stream",
     "text": [
      "[[100  65  80  45  82 115  46]\n",
      " [ 80  55  90  60  47 120  74]\n",
      " [ 70  20  75  70  56 113  23]\n",
      " [ 60  50  80  20  89 106  34]\n",
      " [120  60  60  40  92 107  19]]\n",
      "(7, 5)\n",
      "(5, 7)\n"
     ]
    }
   ],
   "source": [
    "arr_T = arr.transpose()\n",
    "print(arr_T)\n",
    "print(arr.shape)\n",
    "print(arr_T.shape)"
   ]
  },
  {
   "cell_type": "markdown",
   "metadata": {},
   "source": [
    "### Задание 21\n",
    "\n",
    "* Давайте представим, что информация по продажам обновилась: оказалось, что пятый магазин в воскресенье продал не 19 порций мороженого, а 25, и второй магазин продал во вторник не 55 порций, а 65. \n",
    "* Изменить массив `arr` в соответствии с этой информацией."
   ]
  },
  {
   "cell_type": "code",
   "execution_count": 27,
   "metadata": {},
   "outputs": [
    {
     "name": "stdout",
     "output_type": "stream",
     "text": [
      "[[100  65  80  45  82 115  46]\n",
      " [ 80  65  90  60  47 120  74]\n",
      " [ 70  20  75  70  56 113  23]\n",
      " [ 60  50  80  20  89 106  34]\n",
      " [120  60  60  40  92 107  25]]\n"
     ]
    }
   ],
   "source": [
    "arr_T[4][6] = 25\n",
    "arr_T[1][1] = 65\n",
    "print(arr_T)"
   ]
  },
  {
   "cell_type": "markdown",
   "metadata": {},
   "source": [
    "### Задание 22\n",
    "\n",
    "Посчитать суммарный объём продаж мороженого по всем магазинам."
   ]
  },
  {
   "cell_type": "code",
   "execution_count": 28,
   "metadata": {},
   "outputs": [
    {
     "data": {
      "text/plain": [
       "2439"
      ]
     },
     "execution_count": 28,
     "metadata": {},
     "output_type": "execute_result"
    }
   ],
   "source": [
    "np.sum(arr_T)"
   ]
  },
  {
   "cell_type": "markdown",
   "metadata": {},
   "source": [
    "### Задание 23\n",
    "\n",
    "* Выгрузить обновлённый массив `arr` в txt-файл. \n",
    "* Сам txt-файл загружать в систему не нужно, только написать соответствующий код в ipynb-файл."
   ]
  },
  {
   "cell_type": "code",
   "execution_count": 29,
   "metadata": {},
   "outputs": [],
   "source": [
    "np.savetxt(\"arr_T.txt\", arr_T)"
   ]
  },
  {
   "cell_type": "markdown",
   "metadata": {},
   "source": [
    "### Задание 24\n",
    "\n",
    "* Дан массив `income`, содержащий значения прибыли магазина в тысячах на начало, середину и конец года, за четыре года подряд (значения никак не сгруппированы, можно считать, что они так выгрузились из файла). \n",
    "* Изменить форму массива так, чтобы значения были сгруппированы по три значения в каждом списке внутри массива (прибыль на начало, середину и конец года)."
   ]
  },
  {
   "cell_type": "code",
   "execution_count": 30,
   "metadata": {},
   "outputs": [],
   "source": [
    "income = np.array([1000, 2000, 3500, \n",
    "                   2500, 1500, 3800, \n",
    "                   1200, 9000, 12000,\n",
    "                   4500, 6700, 11000])"
   ]
  },
  {
   "cell_type": "code",
   "execution_count": 31,
   "metadata": {},
   "outputs": [
    {
     "name": "stdout",
     "output_type": "stream",
     "text": [
      "[[ 1000  2000  3500]\n",
      " [ 2500  1500  3800]\n",
      " [ 1200  9000 12000]\n",
      " [ 4500  6700 11000]]\n"
     ]
    }
   ],
   "source": [
    "income2 = income.reshape(4, 3)\n",
    "print(income2)"
   ]
  },
  {
   "cell_type": "markdown",
   "metadata": {},
   "source": [
    "### Задание 25\n",
    "\n",
    "* Создать список `turnout` (*list*, не массив), содержащий следующие значения явки на избирательные участки в процентах:\n",
    "\n",
    "23.56, 45.78, 34.92, 57.34, 56.55, 67.23.\n",
    "\n",
    "* Создать, используя списковые включения и встроенные, не из `NumPy`, функции для округления, новый список `turnout_r`, который состоит из округлённых до первого знака после запятой значений явки из `turnout`."
   ]
  },
  {
   "cell_type": "code",
   "execution_count": 32,
   "metadata": {},
   "outputs": [
    {
     "data": {
      "text/plain": [
       "[23.6, 45.8, 34.9, 57.3, 56.5, 67.2]"
      ]
     },
     "execution_count": 32,
     "metadata": {},
     "output_type": "execute_result"
    }
   ],
   "source": [
    "turnout = [23.56, 45.78, 34.92, 57.34, 56.55, 67.23]\n",
    "turnout = [round(i, 1) for i in turnout]\n",
    "turnout"
   ]
  },
  {
   "cell_type": "markdown",
   "metadata": {},
   "source": [
    "### Задание 26\n",
    "\n",
    "* Выполнить те же операции, что и в предыдущей задаче, но с использованием массивов и функций `NumPy`. \n",
    "* Другими словами, создать массив `turnout` и на его основе создать массив `turnout_r` с округлёнными до первого знака значениями явки."
   ]
  },
  {
   "cell_type": "code",
   "execution_count": 33,
   "metadata": {},
   "outputs": [
    {
     "name": "stdout",
     "output_type": "stream",
     "text": [
      "[23.56 45.78 34.92 57.34 56.55 67.23]\n"
     ]
    },
    {
     "data": {
      "text/plain": [
       "array([23.6, 45.8, 34.9, 57.3, 56.6, 67.2])"
      ]
     },
     "execution_count": 33,
     "metadata": {},
     "output_type": "execute_result"
    }
   ],
   "source": [
    "turnout = np.array([23.56, 45.78, 34.92, 57.34, 56.55, 67.23])\n",
    "print(turnout)\n",
    "np.round(turnout, 1)"
   ]
  },
  {
   "cell_type": "markdown",
   "metadata": {},
   "source": [
    "### Задание 27\n",
    "\n",
    "* Зайдите на [страницу](https://ru.wikipedia.org/wiki/%D0%9C%D0%B5%D0%B6%D0%B4%D1%83%D0%BD%D0%B0%D1%80%D0%BE%D0%B4%D0%BD%D1%8B%D0%B9_%D0%B8%D0%BD%D0%B4%D0%B5%D0%BA%D1%81_%D1%81%D1%87%D0%B0%D1%81%D1%82%D1%8C%D1%8F) Википедии, посвящённую Международному индексу счастья, выберите из таблицы **2012 Международный индекс счастья** любые 5 стран и любые 3 показателя и создайте структурированный массив `happy`, такой, в котором есть поле «название страны» и поля для трёх выбранных показателей. \n",
    "* Выберите подходящий тип для каждого поля (показателя) в массиве и учтите это при создание структурированного массива. \n",
    "* Выведите полученный массив на экран."
   ]
  },
  {
   "cell_type": "code",
   "execution_count": 34,
   "metadata": {},
   "outputs": [
    {
     "data": {
      "text/plain": [
       "array([('Индия', 5. , 65.4, 0.9), ('Вьетнам', 5.8, 75.2, 1.4),\n",
       "       ('Ямайка', 6.2, 73.1, 1.7), ('Куба', 5.4, 79.1, 1.9),\n",
       "       ('Япония', 6.1, 83.4, 4.2)],\n",
       "      dtype=[('Название страны', '<U10'), ('Удовлетворенность жизнью', '<f8'), ('Ожидаемая продолжительность жизни', '<f8'), ('Экологический след', '<f8')])"
      ]
     },
     "execution_count": 34,
     "metadata": {},
     "output_type": "execute_result"
    }
   ],
   "source": [
    "happy = np.array([('Индия', 5.0, 65.4, 0.9), ('Вьетнам', 5.8, 75.2, 1.4), ('Ямайка', 6.2, 73.1, 1.7),\n",
    "                 ('Куба', 5.4, 79.1, 1.9), ('Япония', 6.1, 83.4, 4.2)], \n",
    "                dtype = [('Название страны', 'U10'), ('Удовлетворенность жизнью', float),\n",
    "                         ('Ожидаемая продолжительность жизни', float), ('Экологический след', float)])\n",
    "happy"
   ]
  },
  {
   "cell_type": "markdown",
   "metadata": {},
   "source": [
    "### Задание 28\n",
    "\n",
    "Сконвертируйте полученный в предыдущей задаче структурированный массив в обычный список и выведите на экран его второй элемент."
   ]
  },
  {
   "cell_type": "code",
   "execution_count": 35,
   "metadata": {},
   "outputs": [
    {
     "name": "stdout",
     "output_type": "stream",
     "text": [
      "[('Индия', 5. , 65.4, 0.9) ('Вьетнам', 5.8, 75.2, 1.4)\n",
      " ('Ямайка', 6.2, 73.1, 1.7) ('Куба', 5.4, 79.1, 1.9)\n",
      " ('Япония', 6.1, 83.4, 4.2)]\n",
      "1\n"
     ]
    },
    {
     "data": {
      "text/plain": [
       "('Вьетнам', 5.8, 75.2, 1.4)"
      ]
     },
     "execution_count": 35,
     "metadata": {},
     "output_type": "execute_result"
    }
   ],
   "source": [
    "print(happy.ravel())\n",
    "print(happy.ndim)\n",
    "happy[1]"
   ]
  },
  {
   "cell_type": "markdown",
   "metadata": {},
   "source": [
    "### Задание 29\n",
    "\n",
    "* Написать функцию `build_array()`, которая принимает на вход размерность квадратной матрицы (двумерного массива, в котором число строк и число столбцов совпадают) и создаёт единичную матрицу `E` (массив) соответствующей размерности. \n",
    "* Использовать готовую функцию `np.eye()` нельзя, можно использовать циклы и условные конструкции.\n",
    "\n",
    "**Пример:**\n",
    "\n",
    "Ввод:\n",
    "\n",
    "    build_array(4)\n",
    "\n",
    "Вывод:\n",
    "\n",
    "    array([[1., 0., 0., 0.],\n",
    "       [0., 1., 0., 0.],\n",
    "       [0., 0., 1., 0.],\n",
    "       [0., 0., 0., 1.]])"
   ]
  },
  {
   "cell_type": "code",
   "execution_count": 36,
   "metadata": {},
   "outputs": [
    {
     "data": {
      "text/plain": [
       "array([[1., 0., 0., 0.],\n",
       "       [0., 1., 0., 0.],\n",
       "       [0., 0., 1., 0.],\n",
       "       [0., 0., 0., 1.]])"
      ]
     },
     "execution_count": 36,
     "metadata": {},
     "output_type": "execute_result"
    }
   ],
   "source": [
    "def build_array(n):  # функция принимает на вход число n и выводит на экран единичную матрицу размера n\n",
    "   \n",
    "    square_matrix = np.zeros((n, n))\n",
    "    \n",
    "    for row in range(0, n):\n",
    "        for col in range(0, n):\n",
    "            if row == col:\n",
    "                square_matrix[row][col] = 1\n",
    "                \n",
    "    return square_matrix\n",
    "            \n",
    "build_array(4)"
   ]
  },
  {
   "cell_type": "markdown",
   "metadata": {},
   "source": [
    "### Задание 30\n",
    "\n",
    "Напишите функцию `my_reshape()`, которая принимает на вход массив и его новую размерность (пару чисел), и:\n",
    "\n",
    "* если указанные измерения корректны, то возвращает массив новой размерности;\n",
    "* если указанные измерения некорректны, то возвращает пустой массив (пример: из массива 2×5 нельзя сделать новый массив 4×3, потому что в старом массиве 10 элементов, а в новом – 12).\n",
    "\n",
    "**Пример:**\n",
    "\n",
    "Ввод:\n",
    "\n",
    "    A = np.array([[2, 4, 6], \n",
    "            [4, 8, 10]])\n",
    "\n",
    "    my_reshape(A, 6, 1)\n",
    "\n",
    "Вывод:\n",
    "\n",
    "    array([[2], \n",
    "       [4], \n",
    "       [6], \n",
    "       [4], \n",
    "       [8],\n",
    "       [10]])\n",
    "\n",
    "Ввод:\n",
    "\n",
    "    A = np.array([[2, 4, 6], \n",
    "            [4, 8, 10]])\n",
    "\n",
    "    my_reshape(A, 4, 2)\n",
    "\n",
    "Вывод:\n",
    "\n",
    "    array([])\n",
    "\n",
    "**Примечание:** результаты в выводе могут визуально отличаться (выводиться без переносов по строкам, с указанием типа данных), это нормально, примеры модифицированы для читаемости."
   ]
  },
  {
   "cell_type": "code",
   "execution_count": 42,
   "metadata": {},
   "outputs": [
    {
     "name": "stdout",
     "output_type": "stream",
     "text": [
      "[[ 2]\n",
      " [ 4]\n",
      " [ 6]\n",
      " [ 4]\n",
      " [ 8]\n",
      " [10]]\n",
      "<class 'numpy.ndarray'>\n"
     ]
    },
    {
     "data": {
      "text/plain": [
       "array([], dtype=float64)"
      ]
     },
     "execution_count": 42,
     "metadata": {},
     "output_type": "execute_result"
    }
   ],
   "source": [
    "# Вариант 1:\n",
    "\n",
    "def my_reshape(array, p1, p2):\n",
    "    \n",
    "    if p1 * p2 == array.size:\n",
    "        array = array.ravel()\n",
    "\n",
    "        count = 0\n",
    "        my_list = np.zeros((p1, p2))\n",
    "        for i in range(p1):\n",
    "            for j in range(p2):\n",
    "                my_list[i][j] = array[count]\n",
    "                count += 1\n",
    "        print(my_list.astype(int))\n",
    "        print(type(my_list))    # Проверяем, что вывелся массив, а не список  \n",
    "        \n",
    "    else:\n",
    "        return np.array([])\n",
    "    \n",
    "    \n",
    "A = np.array([[2, 4, 6], \n",
    "        [4, 8, 10]])\n",
    "\n",
    "my_reshape(A, 6, 1)\n",
    "my_reshape(A, 4, 2)"
   ]
  },
  {
   "cell_type": "code",
   "execution_count": 40,
   "metadata": {},
   "outputs": [
    {
     "data": {
      "text/plain": [
       "array([[ 2],\n",
       "       [ 4],\n",
       "       [ 6],\n",
       "       [ 4],\n",
       "       [ 8],\n",
       "       [10]])"
      ]
     },
     "execution_count": 40,
     "metadata": {},
     "output_type": "execute_result"
    }
   ],
   "source": [
    "# Вариант 2:\n",
    "\n",
    "def my_reshape(name_of_array, row, colown):\n",
    "    \n",
    "    if name_of_array.size == row * colown:\n",
    "        return name_of_array.reshape(row, colown)\n",
    "    else:\n",
    "        return np.array([])\n",
    "    \n",
    "A = np.array([[2, 4, 6], \n",
    "        [4, 8, 10]])\n",
    "\n",
    "my_reshape(A, 6, 1)\n",
    "# my_reshape(A, 4, 2)"
   ]
  }
 ],
 "metadata": {
  "colab": {
   "name": "3.8 homework-numpy1.ipynb",
   "provenance": [],
   "version": "0.3.2"
  },
  "kernelspec": {
   "display_name": "Python 3",
   "language": "python",
   "name": "python3"
  },
  "language_info": {
   "codemirror_mode": {
    "name": "ipython",
    "version": 3
   },
   "file_extension": ".py",
   "mimetype": "text/x-python",
   "name": "python",
   "nbconvert_exporter": "python",
   "pygments_lexer": "ipython3",
   "version": "3.8.8"
  }
 },
 "nbformat": 4,
 "nbformat_minor": 1
}
